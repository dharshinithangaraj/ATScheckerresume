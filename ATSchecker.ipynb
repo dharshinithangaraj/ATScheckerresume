{
  "nbformat": 4,
  "nbformat_minor": 0,
  "metadata": {
    "colab": {
      "provenance": [],
      "authorship_tag": "ABX9TyMDjSYc6+Mk/B5pGcseQEYS",
      "include_colab_link": true
    },
    "kernelspec": {
      "name": "python3",
      "display_name": "Python 3"
    },
    "language_info": {
      "name": "python"
    }
  },
  "cells": [
    {
      "cell_type": "markdown",
      "metadata": {
        "id": "view-in-github",
        "colab_type": "text"
      },
      "source": [
        "<a href=\"https://colab.research.google.com/github/dharshinithangaraj/ATScheckerresume/blob/main/ATSchecker.ipynb\" target=\"_parent\"><img src=\"https://colab.research.google.com/assets/colab-badge.svg\" alt=\"Open In Colab\"/></a>"
      ]
    },
    {
      "cell_type": "code",
      "execution_count": null,
      "metadata": {
        "colab": {
          "base_uri": "https://localhost:8080/"
        },
        "id": "pU-dYLzt53PC",
        "outputId": "51fcb7e1-3b99-491c-d446-e68e17420743"
      },
      "outputs": [
        {
          "output_type": "execute_result",
          "data": {
            "text/plain": [
              "23.964497041420117"
            ]
          },
          "metadata": {},
          "execution_count": 4
        }
      ],
      "source": [
        "from collections import Counter\n",
        "\n",
        "# Extracting the job description keywords\n",
        "job_description = \"\"\"\n",
        " ob Description\n",
        "\n",
        "We are seeking a talented Tableau Developer/Analyst to join our growing team. In this role, you will be responsible for developing, maintaining, and enhancing Tableau dashboards and reports. The ideal candidate will have expertise in Tableau Desktop, Tableau Server, and data visualization best practices to help our organization make data-driven decisions and drive business performance.\n",
        "\n",
        "Responsibilities\n",
        "\n",
        " Design and develop interactive Tableau dashboards and reports based on business requirements.\n",
        " Connect Tableau to various data sources such as SQL databases, cloud data, spreadsheets, and other business systems to extract and integrate data for reporting.\n",
        " Work with data engineers and analysts to create and optimize data models, views, and structures in Tableau for better reporting and analysis.\n",
        "Implement advanced calculations, aggregations, and data transformations using Tableau’s calculated fields, LOD (Level of Detail) expressions, and Tableau Prep.\n",
        " Collaborate with business users and stakeholders to gather requirements and deliver Tableau solutions that meet business needs.\n",
        " Optimize Tableau workbooks for performance, including query optimization, data source tuning, and efficient use of filters and aggregations.\n",
        " Ensure data integrity by validating reports and dashboards, identifying issues with source data, and troubleshooting any discrepancies.\n",
        " Provide training and ongoing support to business users to enable self-service BI and effective use of Tableau.\n",
        " Maintain documentation for Tableau workbooks, data sources, and project workflows to ensure continuity and knowledge transfer.\n",
        "\n",
        "Required Skills And Qualifications\n",
        "\n",
        " Proven Tableau Expertise: Strong experience with Tableau Desktop and Tableau Server, including the development of interactive dashboards, reports, and data visualizations.\n",
        " Data Integration Skills: Expertise in connecting Tableau to a variety of data sources, such as SQL databases, cloud platforms (AWS, Google Cloud, Azure), and Excel files.\n",
        " Advanced Tableau Functions: Experience in creating complex calculations using Tableau functions (e.g., LOD expressions, table calculations, and dynamic parameters).\n",
        " SQL Skills: Proficient in writing and optimizing SQL queries to extract and manipulate data from relational databases.\n",
        " Data Analysis & Visualization: Strong understanding of data analysis techniques, data visualization best practices, and how to translate business requirements into effective visual reports.\n",
        " Problem-Solving Abilities: Ability to troubleshoot data issues, optimize report performance, and resolve Tableau-related issues independently.\n",
        " Communication Skills: Excellent verbal and written communication skills for interacting with stakeholders and presenting insights and recommendations effectively.\n",
        "\"\"\"\n",
        "\n",
        "# Extracting keywords from the job description and resume\n",
        "def extract_keywords(text):\n",
        "    words = text.lower().split()\n",
        "    return [word.strip('.,-()') for word in words if len(word) > 2]\n",
        "\n",
        "job_keywords = extract_keywords(job_description)\n",
        "\n",
        "\n",
        "\n",
        "resume_text =\"\"\" A results-driven data professional skilled in SQL, Tableau, Power BI, and ETL processes with extensive knowledge Expe-\n",
        "rienced in performing complex analyses and presenting actionable insights to stakeholders. Adept in system analysis and\n",
        "aligning technology solutions to business needs.\n",
        "Education\n",
        "Annamalai university, M.Sc.,Data science,GPA: 8.42/10 Sept 2022 – May 2024\n",
        "Bharathidasan university,B.Sc.,Mathematics,GPA: 8.3/10 june 2019 – May 2022\n",
        "Technical skills\n",
        "◦ Data Analysis and Visualization: Tableau, Power BI, Matplotlib, Seaborn\n",
        "◦ Programming and Tools: Python, SQL, R, TensorFlow, Scikit-learn, Pandas, NumPy\n",
        "◦ Machine Learning: Predictive Modeling, Natural Language Processing, CNNs\n",
        "◦ Database Management: SQL Query Optimization, ETL Processes\n",
        "◦ Business Tools: Microsoft Office Suite (Excel, Word, Outlook, PowerPoint), macOS concepts\n",
        "◦ Soft Skills: Problem-solving, Critical Thinking, Teamwork, Negotiation, Decision-making\n",
        "Key achievements\n",
        "◦ Collaborated with technical and non-technical teams to ensure alignment of business and IT solutions.\n",
        "◦ Presented findings to C-level stakeholders, driving impactful decision-making.\n",
        "◦ Ensured data quality and system modifications were tested thoroughly to maintain integrity.\n",
        "Certifications\n",
        "◦ SQL 5 Star badge in Hackerrank\n",
        "◦ Python 3 Star badge in Hackarrank\n",
        "◦ Power BI workshop,Jobaaj learning\n",
        "◦ Data tableau workshop,jobaaj learning\n",
        "◦ International Level Student Workshop - 2k24 on data science using python , Brainovision solution\n",
        "◦ Basics of Exploratory Data Analysis,Great learning\n",
        "◦ Prompt engineering for chatGPT,Greatlearning\n",
        "Projects\n",
        "Operational Insights and Visualization\n",
        "◦ Designed dashboards in Tableau to track business KPIs and operational pain points. Analyzed SQL data sets to provide\n",
        "actionable insights for efficiency improvements.\n",
        "◦ Tools Used: Tableau, SQL, Power BI\n",
        "Language detection using machine learning Language-detection 2\n",
        "◦ Developed a machine learning model for identifying the language of text input , leveraging NLP techniques for prepro-\n",
        "cessing and feature extraction.\n",
        "◦ Tools Used: python,pandas,numpy\n",
        "Multimodal Emotion Detection Using Text and Image Modalities 2024\n",
        "◦ Developed a multimodal emotion detection system that combines text and image data to enhance emotion recognition\n",
        "accuracy. For the text modality, employed Natural Language Processing (NLP) techniques, including tokenization,\n",
        "sentiment analysis.\n",
        "◦ Tools Used: Python, TensorFlow, OpenCV, NLTK/spaCy, Pandas, Scikit-learn\"\"\"\n",
        "\n",
        "resume_keywords = extract_keywords(resume_text)\n",
        "\n",
        "# Count the matching keywords\n",
        "job_keywords_count = Counter(job_keywords)\n",
        "resume_keywords_count = Counter(resume_keywords)\n",
        "\n",
        "# Calculate ATS score\n",
        "matched_keywords = sum(min(resume_keywords_count[word], job_keywords_count[word]) for word in job_keywords_count)\n",
        "total_keywords = sum(job_keywords_count.values())\n",
        "\n",
        "ats_score = (matched_keywords / total_keywords) * 100\n",
        "ats_score\n"
      ]
    }
  ]
}